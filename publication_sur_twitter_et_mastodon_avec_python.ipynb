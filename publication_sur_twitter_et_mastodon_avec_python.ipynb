{
  "nbformat": 4,
  "nbformat_minor": 0,
  "metadata": {
    "colab": {
      "provenance": [],
      "collapsed_sections": []
    },
    "kernelspec": {
      "name": "python3",
      "display_name": "Python 3"
    },
    "language_info": {
      "name": "python"
    }
  },
  "cells": [
    {
      "cell_type": "markdown",
      "source": [
        " # **PUBLIER sur TWITTER et MASTODON avec PYTHON**\n",
        "\n",
        " Documentation: https://forge.aeif.fr/laurentabbal/publication-sur-twitter-et-mastodon-avec-python\n",
        "\n",
        " ## A. BIBLIOTHÈQUES\n"
      ],
      "metadata": {
        "id": "yBybtzsLLCGJ"
      }
    },
    {
      "cell_type": "code",
      "execution_count": null,
      "metadata": {
        "id": "u12h4UwwK_8W"
      },
      "outputs": [],
      "source": [
        "pip install tweepy --upgrade"
      ]
    },
    {
      "cell_type": "code",
      "source": [
        "pip install mastodon.py"
      ],
      "metadata": {
        "id": "D5hjqpLxLQMw"
      },
      "execution_count": null,
      "outputs": []
    },
    {
      "cell_type": "markdown",
      "source": [
        "\\\n",
        "## B. CLÉ MASTODON (à exécuter qu'une fois)"
      ],
      "metadata": {
        "id": "rsLJ7BV4Sd9R"
      }
    },
    {
      "cell_type": "code",
      "source": [
        "from mastodon import Mastodon\n",
        "mastodon_url = 'https://mastodon.social'\n",
        "Mastodon.create_app(\n",
        "    'pytooterapp',\n",
        "    api_base_url = mastodon_url,\n",
        "    to_file = 'pytooter_clientcred.secret'\n",
        ")\n",
        "mastodon = Mastodon(\n",
        "    client_id = 'pytooter_clientcred.secret',\n",
        "    api_base_url = mastodon_url\n",
        ")\n",
        "mastodon.log_in(\n",
        "    '',\n",
        "    '',\n",
        "    to_file = 'pytooter_usercred.secret'\n",
        ")"
      ],
      "metadata": {
        "id": "KJMuRwR8LVsw"
      },
      "execution_count": null,
      "outputs": []
    },
    {
      "cell_type": "markdown",
      "source": [
        "\\\n",
        "## C. PUBLICATION sur TWITTER et MASTODON"
      ],
      "metadata": {
        "id": "baSIXh9lSike"
      }
    },
    {
      "cell_type": "code",
      "source": [
        "#== CONNEXION TWITTER ==========================================================\n",
        "import tweepy\n",
        "\n",
        "api_key = \"\"\n",
        "api_key_secret = \"\"\n",
        "access_token = \"\"\n",
        "access_token_secret = \"\"\n",
        "\n",
        "twitterv1 = tweepy.API(tweepy.OAuth1UserHandler(api_key, api_key_secret, access_token, access_token_secret))\n",
        "twitterv2 = tweepy.Client(consumer_key=api_key, consumer_secret=api_key_secret, access_token=access_token, access_token_secret=access_token_secret)\n",
        "#===============================================================================\n",
        "\n",
        "#== CONNEXION MASTODON =========================================================\n",
        "from mastodon import Mastodon\n",
        "\n",
        "mastodon_token = \"\"\n",
        "mastodon_url = \"https://mastodon.social\"\n",
        "\n",
        "mastodon = Mastodon(access_token = mastodon_token, api_base_url = mastodon_url)\n",
        "#===============================================================================\n",
        "\n",
        "text  = \"Publier simultanément sur #Twitter et #Mastodon (texte + image) avec #Python. Notebook Jupyter: https://forge.aeif.fr/laurentabbal/publication-sur-twitter-et-mastodon-avec-python/-/blob/main/publication_sur_twitter_et_mastodon_avec_python.ipynb\"\n",
        "image = \"pytwidon.png\"\n",
        "\n",
        "# Chargement de l'image sur Twitter\n",
        "media_twitter = twitterv1.media_upload(image)\n",
        "\n",
        "# Chargement de l'image sur Mastodon\n",
        "media_mastodon = mastodon.media_post(image)\n",
        "\n",
        "# Envoi sur Twitter\n",
        "twitterv2.create_tweet(text=text, media_ids=[media_twitter.media_id])\n",
        "\n",
        "# Envoi sur Mastodon\n",
        "mastodon.status_post(text, media_ids=[media_mastodon.id])"
      ],
      "metadata": {
        "id": "jRd0SPO0LZSY"
      },
      "execution_count": null,
      "outputs": []
    }
  ]
}